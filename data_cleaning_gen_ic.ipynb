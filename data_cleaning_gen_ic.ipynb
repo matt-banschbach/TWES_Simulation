{
 "cells": [
  {
   "cell_type": "code",
   "id": "initial_id",
   "metadata": {
    "collapsed": true,
    "ExecuteTime": {
     "end_time": "2024-12-13T03:12:46.385196Z",
     "start_time": "2024-12-13T03:12:43.683879Z"
    }
   },
   "source": [
    "import pandas as pd\n",
    "import numpy as np\n",
    "import matplotlib.pyplot as plt"
   ],
   "outputs": [],
   "execution_count": 1
  },
  {
   "metadata": {
    "ExecuteTime": {
     "end_time": "2024-12-13T04:50:16.909469Z",
     "start_time": "2024-12-13T04:50:16.897592Z"
    }
   },
   "cell_type": "code",
   "source": [
    "# ELECTRICITY GENERATION DATA\n",
    "elec_gen_raw = pd.read_csv('data/elec_gen_monthly_cleaned.csv')\n",
    "elec_gen_raw = elec_gen_raw[['Year', 'Electricity Supply: Total: Gross']].copy()\n",
    "elec_gen_raw['date'] = pd.to_datetime(elec_gen_raw['Year'], format='%m/%Y')\n",
    "elec_gen_raw = elec_gen_raw.rename(columns={'Electricity Supply: Total: Gross': 'total_gen'})\n",
    "elec_gen_raw['tot_moving_avg'] = elec_gen_raw['total_gen'].rolling(window=30, min_periods=1).mean()\n",
    "\n",
    "gen2003 = elec_gen_raw[elec_gen_raw['date'].dt.year >= 2003]\n",
    "gen2003 = gen2003.drop(['Year'], axis=1)\n",
    "gen2003.set_index('date', inplace=True)\n"
   ],
   "id": "25fab683ca0dffd3",
   "outputs": [],
   "execution_count": 133
  },
  {
   "metadata": {
    "ExecuteTime": {
     "end_time": "2024-12-13T04:51:09.422490Z",
     "start_time": "2024-12-13T04:51:09.395692Z"
    }
   },
   "cell_type": "code",
   "source": [
    "# INSTALLED CAPACITY DATA\n",
    "\n",
    "ic_raw = pd.read_csv(\"data/installed_capacity_annual_2023.csv\")\n",
    "ic = ic_raw.loc[:20, ['year', 'grand_total']].copy()\n",
    "ic['year'] = pd.to_datetime(ic['year'], format='%Y')\n",
    "ic = ic.rename(columns={'grand_total':'total_ic'})\n",
    "ic.set_index('year', inplace=True)\n",
    "\n",
    "# Make Monthly\n",
    "ic_m = ic.resample('MS').ffill()\n",
    "\n",
    "# Add last row to complete 2023\n",
    "row = ic.iloc[-1]\n",
    "date_range = pd.date_range(start='2023-02-01', end='2024-05-31', freq='MS')\n",
    "\n",
    "for date in date_range:\n",
    "    ic_m.loc[date] = row.copy()\n",
    "\n",
    "ic_m['total_ic'] = pd.to_numeric(ic_m.loc[:, 'total_ic'].str.strip('').str.replace(',', ''))"
   ],
   "id": "924889c4c2236cdb",
   "outputs": [],
   "execution_count": 135
  },
  {
   "metadata": {
    "ExecuteTime": {
     "end_time": "2024-12-13T04:53:51.593835Z",
     "start_time": "2024-12-13T04:53:51.587878Z"
    }
   },
   "cell_type": "code",
   "source": [
    "# MAKE COMBINED\n",
    "\n",
    "gc = gen2003.join(ic_m)\n",
    "gc['gen_cap_ratio'] = gc['total_gen'] / gc['total_ic']\n",
    "gc['moving_avg_cap_ratio'] = gc['tot_moving_avg'] / gc['total_ic']"
   ],
   "id": "7b4fe25ffd6afad5",
   "outputs": [],
   "execution_count": 139
  },
  {
   "metadata": {
    "ExecuteTime": {
     "end_time": "2024-12-13T04:53:52.849556Z",
     "start_time": "2024-12-13T04:53:52.839254Z"
    }
   },
   "cell_type": "code",
   "source": "gc",
   "id": "4918e049544e287c",
   "outputs": [
    {
     "data": {
      "text/plain": [
       "            total_gen  tot_moving_avg  total_ic  gen_cap_ratio  \\\n",
       "date                                                             \n",
       "2003-01-01   15464.98    16092.219333   40086.0       0.385795   \n",
       "2003-02-01   13838.03    15968.357667   40086.0       0.345209   \n",
       "2003-03-01   16008.95    15960.447667   40086.0       0.399365   \n",
       "2003-04-01   16511.63    15954.803000   40086.0       0.411905   \n",
       "2003-05-01   17780.61    16052.672667   40086.0       0.443562   \n",
       "...               ...             ...       ...            ...   \n",
       "2024-01-01   21888.41    23889.544667   64044.6       0.341768   \n",
       "2024-02-01   19649.40    23649.330000   64044.6       0.306808   \n",
       "2024-03-01   22498.68    23518.441667   64044.6       0.351297   \n",
       "2024-04-01   23070.49    23434.696667   64044.6       0.360225   \n",
       "2024-05-01   24493.96    23489.668667   64044.6       0.382452   \n",
       "\n",
       "            moving_avg_cap_ratio  \n",
       "date                              \n",
       "2003-01-01              0.401442  \n",
       "2003-02-01              0.398352  \n",
       "2003-03-01              0.398155  \n",
       "2003-04-01              0.398014  \n",
       "2003-05-01              0.400456  \n",
       "...                          ...  \n",
       "2024-01-01              0.373014  \n",
       "2024-02-01              0.369263  \n",
       "2024-03-01              0.367220  \n",
       "2024-04-01              0.365912  \n",
       "2024-05-01              0.366770  \n",
       "\n",
       "[257 rows x 5 columns]"
      ],
      "text/html": [
       "<div>\n",
       "<style scoped>\n",
       "    .dataframe tbody tr th:only-of-type {\n",
       "        vertical-align: middle;\n",
       "    }\n",
       "\n",
       "    .dataframe tbody tr th {\n",
       "        vertical-align: top;\n",
       "    }\n",
       "\n",
       "    .dataframe thead th {\n",
       "        text-align: right;\n",
       "    }\n",
       "</style>\n",
       "<table border=\"1\" class=\"dataframe\">\n",
       "  <thead>\n",
       "    <tr style=\"text-align: right;\">\n",
       "      <th></th>\n",
       "      <th>total_gen</th>\n",
       "      <th>tot_moving_avg</th>\n",
       "      <th>total_ic</th>\n",
       "      <th>gen_cap_ratio</th>\n",
       "      <th>moving_avg_cap_ratio</th>\n",
       "    </tr>\n",
       "    <tr>\n",
       "      <th>date</th>\n",
       "      <th></th>\n",
       "      <th></th>\n",
       "      <th></th>\n",
       "      <th></th>\n",
       "      <th></th>\n",
       "    </tr>\n",
       "  </thead>\n",
       "  <tbody>\n",
       "    <tr>\n",
       "      <th>2003-01-01</th>\n",
       "      <td>15464.98</td>\n",
       "      <td>16092.219333</td>\n",
       "      <td>40086.0</td>\n",
       "      <td>0.385795</td>\n",
       "      <td>0.401442</td>\n",
       "    </tr>\n",
       "    <tr>\n",
       "      <th>2003-02-01</th>\n",
       "      <td>13838.03</td>\n",
       "      <td>15968.357667</td>\n",
       "      <td>40086.0</td>\n",
       "      <td>0.345209</td>\n",
       "      <td>0.398352</td>\n",
       "    </tr>\n",
       "    <tr>\n",
       "      <th>2003-03-01</th>\n",
       "      <td>16008.95</td>\n",
       "      <td>15960.447667</td>\n",
       "      <td>40086.0</td>\n",
       "      <td>0.399365</td>\n",
       "      <td>0.398155</td>\n",
       "    </tr>\n",
       "    <tr>\n",
       "      <th>2003-04-01</th>\n",
       "      <td>16511.63</td>\n",
       "      <td>15954.803000</td>\n",
       "      <td>40086.0</td>\n",
       "      <td>0.411905</td>\n",
       "      <td>0.398014</td>\n",
       "    </tr>\n",
       "    <tr>\n",
       "      <th>2003-05-01</th>\n",
       "      <td>17780.61</td>\n",
       "      <td>16052.672667</td>\n",
       "      <td>40086.0</td>\n",
       "      <td>0.443562</td>\n",
       "      <td>0.400456</td>\n",
       "    </tr>\n",
       "    <tr>\n",
       "      <th>...</th>\n",
       "      <td>...</td>\n",
       "      <td>...</td>\n",
       "      <td>...</td>\n",
       "      <td>...</td>\n",
       "      <td>...</td>\n",
       "    </tr>\n",
       "    <tr>\n",
       "      <th>2024-01-01</th>\n",
       "      <td>21888.41</td>\n",
       "      <td>23889.544667</td>\n",
       "      <td>64044.6</td>\n",
       "      <td>0.341768</td>\n",
       "      <td>0.373014</td>\n",
       "    </tr>\n",
       "    <tr>\n",
       "      <th>2024-02-01</th>\n",
       "      <td>19649.40</td>\n",
       "      <td>23649.330000</td>\n",
       "      <td>64044.6</td>\n",
       "      <td>0.306808</td>\n",
       "      <td>0.369263</td>\n",
       "    </tr>\n",
       "    <tr>\n",
       "      <th>2024-03-01</th>\n",
       "      <td>22498.68</td>\n",
       "      <td>23518.441667</td>\n",
       "      <td>64044.6</td>\n",
       "      <td>0.351297</td>\n",
       "      <td>0.367220</td>\n",
       "    </tr>\n",
       "    <tr>\n",
       "      <th>2024-04-01</th>\n",
       "      <td>23070.49</td>\n",
       "      <td>23434.696667</td>\n",
       "      <td>64044.6</td>\n",
       "      <td>0.360225</td>\n",
       "      <td>0.365912</td>\n",
       "    </tr>\n",
       "    <tr>\n",
       "      <th>2024-05-01</th>\n",
       "      <td>24493.96</td>\n",
       "      <td>23489.668667</td>\n",
       "      <td>64044.6</td>\n",
       "      <td>0.382452</td>\n",
       "      <td>0.366770</td>\n",
       "    </tr>\n",
       "  </tbody>\n",
       "</table>\n",
       "<p>257 rows × 5 columns</p>\n",
       "</div>"
      ]
     },
     "execution_count": 140,
     "metadata": {},
     "output_type": "execute_result"
    }
   ],
   "execution_count": 140
  },
  {
   "metadata": {
    "ExecuteTime": {
     "end_time": "2024-12-13T04:56:01.695189Z",
     "start_time": "2024-12-13T04:56:01.687206Z"
    }
   },
   "cell_type": "code",
   "source": "gc.to_csv(\"gen_cap_merged.csv\")",
   "id": "cf05425ff25a8f27",
   "outputs": [],
   "execution_count": 141
  }
 ],
 "metadata": {
  "kernelspec": {
   "display_name": "Python 3",
   "language": "python",
   "name": "python3"
  },
  "language_info": {
   "codemirror_mode": {
    "name": "ipython",
    "version": 2
   },
   "file_extension": ".py",
   "mimetype": "text/x-python",
   "name": "python",
   "nbconvert_exporter": "python",
   "pygments_lexer": "ipython2",
   "version": "2.7.6"
  }
 },
 "nbformat": 4,
 "nbformat_minor": 5
}
