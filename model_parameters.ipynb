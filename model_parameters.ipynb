{
 "cells": [
  {
   "cell_type": "code",
   "id": "initial_id",
   "metadata": {
    "collapsed": true,
    "ExecuteTime": {
     "end_time": "2024-12-13T05:17:49.794873Z",
     "start_time": "2024-12-13T05:17:49.787778Z"
    }
   },
   "source": [
    "import pandas as pd\n",
    "import numpy as np\n",
    "import matplotlib.pyplot as plt\n",
    "import ast\n",
    "# from supply import *"
   ],
   "outputs": [],
   "execution_count": 23
  },
  {
   "metadata": {
    "ExecuteTime": {
     "end_time": "2024-12-13T05:38:30.232313Z",
     "start_time": "2024-12-13T05:38:30.225596Z"
    }
   },
   "cell_type": "code",
   "source": [
    "# TODO: Add the first few columns to \n",
    "gc = pd.read_csv(\"gen_cap_merged.csv\")\n",
    "gc['date'] = pd.to_datetime(gc['date'])\n",
    "gc.set_index('date', inplace=True)"
   ],
   "id": "883bf6eec9e7bba8",
   "outputs": [],
   "execution_count": 51
  },
  {
   "metadata": {
    "ExecuteTime": {
     "end_time": "2024-12-13T05:38:33.474873Z",
     "start_time": "2024-12-13T05:38:33.469256Z"
    }
   },
   "cell_type": "code",
   "source": [
    "sp2 = pd.DataFrame()\n",
    "sp2['month'] = gc.index.month.unique()\n",
    "sp2.set_index('month', inplace=True)"
   ],
   "id": "49a953c13f25a078",
   "outputs": [],
   "execution_count": 52
  },
  {
   "metadata": {
    "ExecuteTime": {
     "end_time": "2024-12-13T05:38:34.787962Z",
     "start_time": "2024-12-13T05:38:34.773757Z"
    }
   },
   "cell_type": "code",
   "source": [
    "total_gen_pairs = []\n",
    "norm_gen_pairs = []\n",
    "moving_avg_norm_gen_pairs = []\n",
    "\n",
    "for mon in sp2.index:\n",
    "    total_gen_month = gc.loc[gc.index.month == mon, 'total_gen']\n",
    "    total_gen_pairs.append((min(total_gen_month), max(total_gen_month)))\n",
    "    \n",
    "    norm_gen_month = gc.loc[gc.index.month == mon, 'gen_cap_ratio']\n",
    "    norm_gen_pairs.append((min(norm_gen_month), max(norm_gen_month)))\n",
    "    \n",
    "    mov_avg_gen_month = gc.loc[gc.index.month == mon, 'moving_avg_cap_ratio']\n",
    "    moving_avg_norm_gen_pairs.append((min(mov_avg_gen_month), max(mov_avg_gen_month)))\n",
    "\n",
    "sp2['tot_range'] = total_gen_pairs\n",
    "sp2['norm_range'] = norm_gen_pairs\n",
    "sp2['avg_norm_range'] = moving_avg_norm_gen_pairs"
   ],
   "id": "92c36d6a9f11655f",
   "outputs": [],
   "execution_count": 53
  },
  {
   "metadata": {
    "ExecuteTime": {
     "end_time": "2024-12-13T05:38:43.684763Z",
     "start_time": "2024-12-13T05:38:43.672735Z"
    }
   },
   "cell_type": "code",
   "source": "sp2",
   "id": "a6d8da4662a0f4bc",
   "outputs": [
    {
     "data": {
      "text/plain": [
       "                  tot_range                                norm_range  \\\n",
       "month                                                                   \n",
       "1      (15279.45, 22377.87)   (0.3188466434339851, 0.419811072302837)   \n",
       "2      (13838.03, 20358.08)  (0.3068080681275236, 0.3841815990789411)   \n",
       "3      (16008.95, 22972.52)  (0.3442753955837026, 0.4280112567691773)   \n",
       "4      (16511.63, 23070.49)  (0.3410721590891348, 0.4226219099081235)   \n",
       "5      (17780.61, 26208.25)  (0.3770641084494243, 0.4764281564127005)   \n",
       "6      (17859.74, 25685.59)  (0.3964185895454106, 0.4952083097882483)   \n",
       "7       (20921.65, 28130.2)  (0.4245141666900878, 0.5281221236853471)   \n",
       "8       (20560.9, 27428.22)  (0.4190660883197022, 0.5348659555775587)   \n",
       "9      (19066.17, 26425.33)  (0.3996805351270833, 0.5037763335964242)   \n",
       "10     (17763.33, 25582.84)  (0.3767643173663353, 0.4764488423666809)   \n",
       "11      (16603.81, 22844.8)   (0.3456909716041633, 0.433647351473748)   \n",
       "12     (16511.75, 22855.87)   (0.348665929680254, 0.4277397795312655)   \n",
       "\n",
       "                                 avg_norm_range  \n",
       "month                                            \n",
       "1      (0.3730141911522075, 0.4417939478295686)  \n",
       "2      (0.3692634507827357, 0.4375920969959629)  \n",
       "3      (0.3672197447820217, 0.4357004403558285)  \n",
       "4      (0.3659121403938297, 0.4349937270767772)  \n",
       "5      (0.3667704797385988, 0.4369813408432566)  \n",
       "6      (0.3710660019215775, 0.4394383586380689)  \n",
       "7        (0.373571870227935, 0.443290711271716)  \n",
       "8      (0.3775797699311625, 0.4493884795989657)  \n",
       "9      (0.3790436508308273, 0.4522954164713775)  \n",
       "10      (0.3798816345692429, 0.454337068681577)  \n",
       "11     (0.3777640425578424, 0.4535520841998759)  \n",
       "12     (0.3760176449953106, 0.4515109189443633)  "
      ],
      "text/html": [
       "<div>\n",
       "<style scoped>\n",
       "    .dataframe tbody tr th:only-of-type {\n",
       "        vertical-align: middle;\n",
       "    }\n",
       "\n",
       "    .dataframe tbody tr th {\n",
       "        vertical-align: top;\n",
       "    }\n",
       "\n",
       "    .dataframe thead th {\n",
       "        text-align: right;\n",
       "    }\n",
       "</style>\n",
       "<table border=\"1\" class=\"dataframe\">\n",
       "  <thead>\n",
       "    <tr style=\"text-align: right;\">\n",
       "      <th></th>\n",
       "      <th>tot_range</th>\n",
       "      <th>norm_range</th>\n",
       "      <th>avg_norm_range</th>\n",
       "    </tr>\n",
       "    <tr>\n",
       "      <th>month</th>\n",
       "      <th></th>\n",
       "      <th></th>\n",
       "      <th></th>\n",
       "    </tr>\n",
       "  </thead>\n",
       "  <tbody>\n",
       "    <tr>\n",
       "      <th>1</th>\n",
       "      <td>(15279.45, 22377.87)</td>\n",
       "      <td>(0.3188466434339851, 0.419811072302837)</td>\n",
       "      <td>(0.3730141911522075, 0.4417939478295686)</td>\n",
       "    </tr>\n",
       "    <tr>\n",
       "      <th>2</th>\n",
       "      <td>(13838.03, 20358.08)</td>\n",
       "      <td>(0.3068080681275236, 0.3841815990789411)</td>\n",
       "      <td>(0.3692634507827357, 0.4375920969959629)</td>\n",
       "    </tr>\n",
       "    <tr>\n",
       "      <th>3</th>\n",
       "      <td>(16008.95, 22972.52)</td>\n",
       "      <td>(0.3442753955837026, 0.4280112567691773)</td>\n",
       "      <td>(0.3672197447820217, 0.4357004403558285)</td>\n",
       "    </tr>\n",
       "    <tr>\n",
       "      <th>4</th>\n",
       "      <td>(16511.63, 23070.49)</td>\n",
       "      <td>(0.3410721590891348, 0.4226219099081235)</td>\n",
       "      <td>(0.3659121403938297, 0.4349937270767772)</td>\n",
       "    </tr>\n",
       "    <tr>\n",
       "      <th>5</th>\n",
       "      <td>(17780.61, 26208.25)</td>\n",
       "      <td>(0.3770641084494243, 0.4764281564127005)</td>\n",
       "      <td>(0.3667704797385988, 0.4369813408432566)</td>\n",
       "    </tr>\n",
       "    <tr>\n",
       "      <th>6</th>\n",
       "      <td>(17859.74, 25685.59)</td>\n",
       "      <td>(0.3964185895454106, 0.4952083097882483)</td>\n",
       "      <td>(0.3710660019215775, 0.4394383586380689)</td>\n",
       "    </tr>\n",
       "    <tr>\n",
       "      <th>7</th>\n",
       "      <td>(20921.65, 28130.2)</td>\n",
       "      <td>(0.4245141666900878, 0.5281221236853471)</td>\n",
       "      <td>(0.373571870227935, 0.443290711271716)</td>\n",
       "    </tr>\n",
       "    <tr>\n",
       "      <th>8</th>\n",
       "      <td>(20560.9, 27428.22)</td>\n",
       "      <td>(0.4190660883197022, 0.5348659555775587)</td>\n",
       "      <td>(0.3775797699311625, 0.4493884795989657)</td>\n",
       "    </tr>\n",
       "    <tr>\n",
       "      <th>9</th>\n",
       "      <td>(19066.17, 26425.33)</td>\n",
       "      <td>(0.3996805351270833, 0.5037763335964242)</td>\n",
       "      <td>(0.3790436508308273, 0.4522954164713775)</td>\n",
       "    </tr>\n",
       "    <tr>\n",
       "      <th>10</th>\n",
       "      <td>(17763.33, 25582.84)</td>\n",
       "      <td>(0.3767643173663353, 0.4764488423666809)</td>\n",
       "      <td>(0.3798816345692429, 0.454337068681577)</td>\n",
       "    </tr>\n",
       "    <tr>\n",
       "      <th>11</th>\n",
       "      <td>(16603.81, 22844.8)</td>\n",
       "      <td>(0.3456909716041633, 0.433647351473748)</td>\n",
       "      <td>(0.3777640425578424, 0.4535520841998759)</td>\n",
       "    </tr>\n",
       "    <tr>\n",
       "      <th>12</th>\n",
       "      <td>(16511.75, 22855.87)</td>\n",
       "      <td>(0.348665929680254, 0.4277397795312655)</td>\n",
       "      <td>(0.3760176449953106, 0.4515109189443633)</td>\n",
       "    </tr>\n",
       "  </tbody>\n",
       "</table>\n",
       "</div>"
      ]
     },
     "execution_count": 54,
     "metadata": {},
     "output_type": "execute_result"
    }
   ],
   "execution_count": 54
  },
  {
   "metadata": {
    "ExecuteTime": {
     "end_time": "2024-12-13T05:38:45.996948Z",
     "start_time": "2024-12-13T05:38:45.991888Z"
    }
   },
   "cell_type": "code",
   "source": "sp2.to_csv('sp2.csv')",
   "id": "2c2196cfdb390091",
   "outputs": [],
   "execution_count": 55
  },
  {
   "metadata": {
    "ExecuteTime": {
     "end_time": "2024-12-13T05:23:04.487889Z",
     "start_time": "2024-12-13T05:23:04.481084Z"
    }
   },
   "cell_type": "code",
   "source": [
    "# The latest Installed Capacity is assumed to be current\n",
    "\n",
    "gc.iloc[-1:, 2]"
   ],
   "id": "ccb5d21e84992a52",
   "outputs": [
    {
     "data": {
      "text/plain": [
       "date\n",
       "2024-05-01    64044.6\n",
       "Name: total_ic, dtype: float64"
      ]
     },
     "execution_count": 44,
     "metadata": {},
     "output_type": "execute_result"
    }
   ],
   "execution_count": 44
  }
 ],
 "metadata": {
  "kernelspec": {
   "display_name": "Python 3",
   "language": "python",
   "name": "python3"
  },
  "language_info": {
   "codemirror_mode": {
    "name": "ipython",
    "version": 2
   },
   "file_extension": ".py",
   "mimetype": "text/x-python",
   "name": "python",
   "nbconvert_exporter": "python",
   "pygments_lexer": "ipython2",
   "version": "2.7.6"
  }
 },
 "nbformat": 4,
 "nbformat_minor": 5
}
